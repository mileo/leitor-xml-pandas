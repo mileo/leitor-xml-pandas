{
 "cells": [
  {
   "cell_type": "code",
   "execution_count": 1,
   "id": "c44d2a7f-0578-4c72-a5b3-17d8e3a57b2b",
   "metadata": {},
   "outputs": [],
   "source": [
    "import glob\n",
    "import xmltodict\n",
    "import os\n",
    "\n",
    "itens = []\n",
    "itens_limpos = []\n",
    "\n",
    "for filename in glob.glob('*.xml'):\n",
    "    with open(os.path.join(os.getcwd(), filename), 'r') as f:\n",
    "        data = f.read()\n",
    "        \n",
    "        for item in xmltodict.parse(data)['CFe']['infCFe']['det']:\n",
    "            itens.append(item)\n",
    "            try:\n",
    "                dados = {\n",
    "                    'CFe': xmltodict.parse(data)['CFe']['infCFe']['@Id'],\n",
    "#                     'nCFe': xmltodict.parse(data)['CFe']['ide']['nCFe'],\n",
    "#                     'nserieSAT': xmltodict.parse(data)['CFe']['ide']['nserieSAT'],\n",
    "#                     'dEmi': xmltodict.parse(data)['CFe']['ide']['dEmi'],\n",
    "                }\n",
    "\n",
    "                dados.update(item['prod'])\n",
    "\n",
    "                icms = {}\n",
    "                for key, record in item['imposto']['ICMS'].items():\n",
    "                    for key, record in record.items():\n",
    "                        icms['ICMS_' + key] = record\n",
    "                dados.update(icms)\n",
    "\n",
    "                pis = {}\n",
    "                for key, record in item['imposto']['PIS'].items():\n",
    "                    for key, record in record.items():\n",
    "                        pis['PIS_' + key] = record\n",
    "                dados.update(pis)\n",
    "\n",
    "                cofins = {}\n",
    "                for record in item['imposto']['COFINS'].values():\n",
    "                    for key, record in record.items():\n",
    "                        pis['COFINS_' + key] = record\n",
    "\n",
    "                dados.update(cofins)\n",
    "\n",
    "                itens_limpos.append(dados)\n",
    "            except:\n",
    "                continue\n",
    "                print(filename)"
   ]
  },
  {
   "cell_type": "code",
   "execution_count": 2,
   "id": "d718e62b-6da6-454c-aefd-35497f5e1c92",
   "metadata": {},
   "outputs": [],
   "source": [
    "from pandas import pandas as pd\n",
    "data_xml = pd.DataFrame(itens_limpos)"
   ]
  },
  {
   "cell_type": "code",
   "execution_count": 3,
   "id": "8a12ecdb-6c56-4540-aba3-811b83ba26d7",
   "metadata": {},
   "outputs": [],
   "source": [
    "data_xml.to_excel('saida.xlsx')"
   ]
  }
 ],
 "metadata": {
  "kernelspec": {
   "display_name": "Python 3 (ipykernel)",
   "language": "python",
   "name": "python3"
  },
  "language_info": {
   "codemirror_mode": {
    "name": "ipython",
    "version": 3
   },
   "file_extension": ".py",
   "mimetype": "text/x-python",
   "name": "python",
   "nbconvert_exporter": "python",
   "pygments_lexer": "ipython3",
   "version": "3.8.10"
  }
 },
 "nbformat": 4,
 "nbformat_minor": 5
}
