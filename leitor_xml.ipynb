{
 "cells": [
  {
   "cell_type": "code",
   "execution_count": 1,
   "id": "c44d2a7f-0578-4c72-a5b3-17d8e3a57b2b",
   "metadata": {},
   "outputs": [],
   "source": [
    "import glob\n",
    "import xmltodict\n",
    "import os\n",
    "from collections import OrderedDict\n",
    "\n",
    "xml_data = []\n",
    "itens_limpos = []\n",
    "\n",
    "for filename in glob.glob('*.xml'):\n",
    "    with open(os.path.join(os.getcwd(), filename), 'r') as f:\n",
    "        data =  xmltodict.parse(f.read())\n",
    "        xml_data.append(data)\n",
    "        \n",
    "com_erro = []\n",
    "        \n",
    "for xml in xml_data:\n",
    "    erro = False   \n",
    "    itens = xml['CFe']['infCFe']['det']\n",
    "    if type(itens) == str:\n",
    "        erro = True\n",
    "        \n",
    "    if not erro:   \n",
    "        for item in itens:\n",
    "            dados = {\n",
    "                    'CFe': xml['CFe']['infCFe']['@Id'],\n",
    "                    'nCFe': xml['CFe']['infCFe']['ide']['nCFe'],\n",
    "                    'nserieSAT': xml['CFe']['infCFe']['ide']['nserieSAT'],\n",
    "                    'dEmi': xml['CFe']['infCFe']['ide']['dEmi'],\n",
    "            } \n",
    "            try:\n",
    "                dados.update(item['prod'])    \n",
    "                icms = {}\n",
    "                for key, record in item['imposto']['ICMS'].items():\n",
    "                    for key, record in record.items():\n",
    "                        icms['ICMS_' + key] = record\n",
    "                dados.update(icms)\n",
    "\n",
    "                pis = {}\n",
    "                for key, record in item['imposto']['PIS'].items():\n",
    "                    for key, record in record.items():\n",
    "                        pis['PIS_' + key] = record\n",
    "                dados.update(pis)\n",
    "\n",
    "                cofins = {}\n",
    "                for record in item['imposto']['COFINS'].values():\n",
    "                    for key, record in record.items():\n",
    "                        cofins['COFINS_' + key] = record\n",
    "                dados.update(cofins)\n",
    "            except:\n",
    "                erro = True\n",
    "            itens_limpos.append(dados)\n",
    "       \n",
    "    if erro:\n",
    "        com_erro.append(xml)"
   ]
  },
  {
   "cell_type": "code",
   "execution_count": 3,
   "id": "d718e62b-6da6-454c-aefd-35497f5e1c92",
   "metadata": {},
   "outputs": [
    {
     "data": {
      "text/plain": [
       "OrderedDict([('COFINSNT', OrderedDict([('CST', '04')]))])"
      ]
     },
     "execution_count": 3,
     "metadata": {},
     "output_type": "execute_result"
    }
   ],
   "source": [
    "item['imposto']['COFINS']"
   ]
  },
  {
   "cell_type": "code",
   "execution_count": 2,
   "id": "8a12ecdb-6c56-4540-aba3-811b83ba26d7",
   "metadata": {},
   "outputs": [],
   "source": [
    "from pandas import pandas as pd\n",
    "data_xml = pd.DataFrame(itens_limpos)"
   ]
  },
  {
   "cell_type": "code",
   "execution_count": null,
   "id": "81bc1804-8b34-4272-a460-b71884882dbd",
   "metadata": {},
   "outputs": [],
   "source": [
    "data_xml.to_excel('saida.xlsx')\n",
    "grouped = data_xml.drop_duplicates(subset=['cProd'], keep='last')\n",
    "grouped.to_excel('produtos.xlsx')"
   ]
  }
 ],
 "metadata": {
  "kernelspec": {
   "display_name": "Python 3 (ipykernel)",
   "language": "python",
   "name": "python3"
  },
  "language_info": {
   "codemirror_mode": {
    "name": "ipython",
    "version": 3
   },
   "file_extension": ".py",
   "mimetype": "text/x-python",
   "name": "python",
   "nbconvert_exporter": "python",
   "pygments_lexer": "ipython3",
   "version": "3.8.10"
  }
 },
 "nbformat": 4,
 "nbformat_minor": 5
}
